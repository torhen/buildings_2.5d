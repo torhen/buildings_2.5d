{
 "cells": [
  {
   "cell_type": "code",
   "execution_count": 16,
   "metadata": {},
   "outputs": [],
   "source": [
    "import pandas as pd\n",
    "import geopandas as gpd\n",
    "import simplekml"
   ]
  },
  {
   "cell_type": "code",
   "execution_count": 17,
   "metadata": {},
   "outputs": [],
   "source": [
    "gdf = gpd.read_file('wgs.tab')"
   ]
  },
  {
   "cell_type": "code",
   "execution_count": 18,
   "metadata": {},
   "outputs": [
    {
     "data": {
      "text/plain": [
       "6"
      ]
     },
     "execution_count": 18,
     "metadata": {},
     "output_type": "execute_result"
    }
   ],
   "source": [
    "lx = list(gdf.iloc[0].geometry.exterior.coords.xy[0])\n",
    "ly = list(gdf.iloc[0].geometry.exterior.coords.xy[1])\n",
    "xy = [xy for xy in zip(lx, ly)]\n",
    "len(xy)"
   ]
  },
  {
   "cell_type": "code",
   "execution_count": 19,
   "metadata": {},
   "outputs": [],
   "source": [
    "kml = simplekml.Kml()\n",
    "for ind, row in gdf.iterrows():\n",
    "    lx = list(row.geometry.exterior.coords.xy[0])\n",
    "    ly = list(row.geometry.exterior.coords.xy[1])\n",
    "    coords = [(xy[0],xy[1],row.h) for xy in zip(lx, ly)]\n",
    "    pol = kml.newpolygon( outerboundaryis=coords)\n",
    "    pol.altitudemode = 'absolute'\n",
    "    pol.extrude = 1\n",
    "kml.save('test.kml')"
   ]
  },
  {
   "cell_type": "code",
   "execution_count": 54,
   "metadata": {},
   "outputs": [],
   "source": []
  },
  {
   "cell_type": "code",
   "execution_count": null,
   "metadata": {},
   "outputs": [],
   "source": []
  }
 ],
 "metadata": {
  "kernelspec": {
   "display_name": "Python 3",
   "language": "python",
   "name": "python3"
  },
  "language_info": {
   "codemirror_mode": {
    "name": "ipython",
    "version": 3
   },
   "file_extension": ".py",
   "mimetype": "text/x-python",
   "name": "python",
   "nbconvert_exporter": "python",
   "pygments_lexer": "ipython3",
   "version": "3.7.1"
  }
 },
 "nbformat": 4,
 "nbformat_minor": 2
}
