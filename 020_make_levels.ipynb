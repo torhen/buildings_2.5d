{
 "cells": [
  {
   "cell_type": "code",
   "execution_count": 1,
   "metadata": {},
   "outputs": [],
   "source": [
    "%matplotlib inline\n",
    "import numpy as np\n",
    "from shapely.geometry import Point, Polygon\n",
    "import pandas as pd\n",
    "import geopandas as gpd\n",
    "import mio\n",
    "import os, glob, random"
   ]
  },
  {
   "cell_type": "code",
   "execution_count": 2,
   "metadata": {},
   "outputs": [],
   "source": [
    "def is_valid(GeoSeries):\n",
    "    for geom in GeoSeries:\n",
    "        assert geom.is_valid\n",
    "        if geom.type not in ['Polygon','MultiPolygon']:\n",
    "            print('geometry is', geom.type, \"expected Polygon\")\n",
    "            assert False"
   ]
  },
  {
   "cell_type": "code",
   "execution_count": 3,
   "metadata": {},
   "outputs": [],
   "source": [
    "def cutpoint(p1:tuple, p2:tuple)->tuple:\n",
    "    \"calc point cuts zero plane\"\n",
    "    x1, y1, z1 = p1\n",
    "    x2, y2, z2 = p2\n",
    "    if (z2 - z1) != 0:\n",
    "        k = - z1 / (z2 - z1)\n",
    "    else:\n",
    "        k = 0\n",
    "    x0 = x1 + k * (x2 - x1)\n",
    "    y0 = y1 + k * (y2 - y1)\n",
    "    z0 = z1 + k * (z2 - z1)\n",
    "    return x0, y0, z0"
   ]
  },
  {
   "cell_type": "code",
   "execution_count": 4,
   "metadata": {},
   "outputs": [],
   "source": [
    "def slice_line(p1:tuple, p2:tuple)->list:\n",
    "    x1, y1, z1 = p1\n",
    "    x2, y2, z2 = p2\n",
    "    if z1>0 and z2>0:\n",
    "        # line above zero plane\n",
    "        return [(x1, y1, 0), (x2, y2, 0)]\n",
    "    if z1<0 and z2<0:\n",
    "        # Line below zero plane\n",
    "        return []\n",
    "    p0 = cutpoint(p1, p2)\n",
    "    if z1<=0:\n",
    "        # replace first point\n",
    "        return [p0, p2]\n",
    "    if z2<=0:\n",
    "        # replace second point\n",
    "        return [p1, p0]"
   ]
  },
  {
   "cell_type": "code",
   "execution_count": 5,
   "metadata": {},
   "outputs": [],
   "source": [
    "def slice_tri(poly:Polygon, h:float, tri_buffer:float):\n",
    "    \" Slice one triangle\"\n",
    "    p1 =   poly.exterior.coords[0]\n",
    "    p2 =   poly.exterior.coords[1]\n",
    "    p3 =   poly.exterior.coords[2]\n",
    "    p1 = [p1[0], p1[1], p1[2]-h]\n",
    "    p2 = [p2[0], p2[1], p2[2]-h]\n",
    "    p3 = [p3[0], p3[1], p3[2]-h]\n",
    "    l = []\n",
    "    l1 = slice_line(p1, p2)\n",
    "    l2 = slice_line(p2, p3)\n",
    "    l3 = slice_line(p3, p1)\n",
    "    l = l1 + l2 + l3\n",
    "    # aribitrary buffer to avoid topology errors (1 cm!)\n",
    "    poly = Polygon(l).buffer(tri_buffer)\n",
    "    if poly.area == 0:\n",
    "        return\n",
    "    \n",
    "    return poly"
   ]
  },
  {
   "cell_type": "code",
   "execution_count": 6,
   "metadata": {},
   "outputs": [],
   "source": [
    "def make_level(tri, h, tri_buffer):\n",
    "    pl = []\n",
    "    for t in tri:\n",
    "        poly = Polygon(t)\n",
    "        poly = slice_tri(poly, h, tri_buffer)\n",
    "        if poly is not None:   # avoid empty polygons\n",
    "            pl.append(poly)\n",
    "    gdf = gpd.GeoDataFrame(geometry=pl)\n",
    "    \n",
    "    # try to fix topolgy array\n",
    "    gdf.geometry = gdf.geometry.buffer(0)\n",
    "    \n",
    "    #is_valid(gdf.geometry)\n",
    "    gdf['id'] = 1\n",
    "    gdf = gdf.dissolve('id')\n",
    "    return gdf.geometry[1]"
   ]
  },
  {
   "cell_type": "code",
   "execution_count": 7,
   "metadata": {},
   "outputs": [],
   "source": [
    "def read_obj_file(model_path:str)->tuple:\n",
    "    # read obj file\n",
    "    fin = open(model_path)\n",
    "    v_list = []\n",
    "    f_list = []\n",
    "    for s in fin:\n",
    "        l = s.split()\n",
    "        if l[0] == 'g':\n",
    "            lon = float(l[1])\n",
    "            lat = float(l[2])\n",
    "        if l[0] == 'v':\n",
    "            vertex = float(l[1]), float(l[2]),float(l[3])\n",
    "            v_list.append(vertex)                                    \n",
    "        if l[0] == 'f':\n",
    "            poi = l[1:]\n",
    "            poi = [int(x)-1 for x in poi]\n",
    "            f_list.append(poi)\n",
    "    return v_list, f_list, lon, lat"
   ]
  },
  {
   "cell_type": "code",
   "execution_count": 8,
   "metadata": {},
   "outputs": [],
   "source": [
    "def resolve_tris(v_list:list, f_list:list)->list:\n",
    "    tris = []\n",
    "    for f in f_list:\n",
    "        tri = [v_list[p] for p in f]\n",
    "        tris.append(tri)\n",
    "    return tris"
   ]
  },
  {
   "cell_type": "code",
   "execution_count": 9,
   "metadata": {},
   "outputs": [],
   "source": [
    "def get_hight_range(tris:list)->tuple:\n",
    "    h_min = 8848\n",
    "    h_max = 0\n",
    "    for tri in tris:\n",
    "        for point in tri:\n",
    "            h = point[2]\n",
    "            if h > h_max: h_max = h\n",
    "            if h < h_min: h_min = h\n",
    "    return h_min, h_max"
   ]
  },
  {
   "cell_type": "code",
   "execution_count": 10,
   "metadata": {},
   "outputs": [],
   "source": [
    "def levels_df(tris:list, tri_buffer:float, min_dif:float) -> gpd.GeoDataFrame:\n",
    "    h_min, h_max = get_hight_range(tris)\n",
    "    h_min = int(h_min-1)\n",
    "    h_max = int(h_max+1)\n",
    "    gl = []\n",
    "    area = 0\n",
    "    for h in range(h_min, h_max):\n",
    "        row = {}\n",
    "        row['h'] = h\n",
    "        geom =  make_level(tris, h, tri_buffer)\n",
    "        ar = geom.area\n",
    "        row['geometry'] = geom\n",
    "        if abs(ar - area) > min_dif and ar>min_dif:\n",
    "            gl.append(row)\n",
    "            area = ar\n",
    "    gdf = gpd.GeoDataFrame(gl)\n",
    "    gdf = gdf.iloc[::-1]\n",
    "    gdf = gdf.reset_index(drop=True)\n",
    "    return gdf.copy()"
   ]
  },
  {
   "cell_type": "code",
   "execution_count": 11,
   "metadata": {},
   "outputs": [],
   "source": [
    "def make_v_f(row:gpd.GeoSeries)->list:\n",
    "    v_list = []\n",
    "    f_list = []\n",
    "    i = 0\n",
    "    for coord in row.geometry.exterior.coords:\n",
    "        i += 1\n",
    "        xyz = (coord[0], coord[1], row.h)\n",
    "        v_list.append(xyz)\n",
    "        f_list.append(i)\n",
    "    return v_list, f_list"
   ]
  },
  {
   "cell_type": "code",
   "execution_count": 12,
   "metadata": {},
   "outputs": [],
   "source": [
    "def write_level_obj(gdf:gpd.GeoDataFrame, obj_dest:str):\n",
    "    fout = open(obj_dest, 'w')\n",
    "    fout.write('g\\n')\n",
    "    i_offset = 0\n",
    "    for ind, row in gdf[:].iterrows():\n",
    "        v_list, f_list = make_v_f(row)\n",
    "        for coord in v_list:\n",
    "            s = \"v %f %f %f\\n\" % coord\n",
    "            fout.write(s)\n",
    "        sv = 'f '\n",
    "        for i in f_list:\n",
    "            sv = sv + \" \" + str(i + i_offset)\n",
    "        fout.write(sv + \"\\n\")\n",
    "        i_offset += len(f_list)\n",
    "    fout.close()"
   ]
  },
  {
   "cell_type": "code",
   "execution_count": 13,
   "metadata": {},
   "outputs": [],
   "source": [
    "def cut_out(gdf:gpd.GeoDataFrame, cut_buffer:float):\n",
    "    gdf = gdf.copy()\n",
    "    gdf.geometry = gdf.geometry.buffer(0)\n",
    "    gdf.geometry = [geom for geom in gdf.geometry if geom.area>1]\n",
    "    for i in range(len(gdf)-1):\n",
    "        upper = gdf.geometry.iloc[0:i+1]\n",
    "        #is_valid(upper)\n",
    "        \n",
    "        lower = gdf.geometry.iloc[i+1:]\n",
    "        #is_valid(lower)\n",
    "        \n",
    "        geom = upper.unary_union.buffer(cut_buffer)\n",
    "        #assert geom.is_valid\n",
    "        \n",
    "        # try to decrease topologyerrors by buffering\n",
    "        lower_cut = lower.buffer(0).difference(geom)\n",
    "\n",
    "        \n",
    "        lower_cut = lower_cut.buffer(0)\n",
    "        #is_valid(lower_cut)\n",
    "               \n",
    "        res = upper.append(lower_cut)\n",
    "        gdf.geometry = res\n",
    "        gdf.geometry.buffer(0)\n",
    "    return gdf"
   ]
  },
  {
   "cell_type": "code",
   "execution_count": 14,
   "metadata": {},
   "outputs": [],
   "source": [
    "def obj_to_json(model_path:str)->gpd.GeoDataFrame:\n",
    "    v_list, f_list, lon, lat = read_obj_file(model_path)\n",
    "    tris = resolve_tris(v_list, f_list)\n",
    "    gdf = levels_df(tris, tri_buffer=0.001, min_dif=1)\n",
    "    gdf = cut_out(gdf, cut_buffer=0.001)\n",
    "    gdf = mio.disagg(gdf)\n",
    "    gdf.geometry = gdf.geometry.buffer(0)\n",
    "    gdf['lon'] = lon\n",
    "    gdf['lat'] = lat\n",
    "    gdf['model_path'] = model_path\n",
    "    dest = os.path.splitext(model_path)[0] + '.json'\n",
    "    gdf.to_file(dest, driver=\"GeoJSON\")\n",
    "    return gdf"
   ]
  },
  {
   "cell_type": "code",
   "execution_count": null,
   "metadata": {},
   "outputs": [
    {
     "name": "stdout",
     "output_type": "stream",
     "text": [
      "files 1752\n",
      "0.0% "
     ]
    },
    {
     "name": "stderr",
     "output_type": "stream",
     "text": [
      "C:\\tools\\anaconda3\\lib\\site-packages\\geopandas\\io\\file.py:108: FionaDeprecationWarning: Use fiona.Env() instead.\n",
      "  with fiona.drivers():\n"
     ]
    },
    {
     "name": "stdout",
     "output_type": "stream",
     "text": [
      "0.29% 0.57% 0.86% 1.14% 1.43% 1.71% 2.0% 2.28% 2.57% 2.85% 3.14% 3.42% 3.71% 4.0% 4.28% 4.57% 4.85% 5.14% 5.42% 5.71% 5.99% 6.28% 6.56% 6.85% 7.13% 7.42% 7.71% 7.99% 8.28% 8.56% 8.85% 9.13% 9.42% 9.7% 9.99% 10.27% 10.56% 10.84% 11.13% 11.42% 11.7% 11.99% 12.27% 12.56% 12.84% 13.13% 13.41% 13.7% 13.98% 14.27% 14.55% 14.84% 15.13% 15.41% 15.7% 15.98% 16.27% 16.55% 16.84% 17.12% 17.41% 17.69% 17.98% 18.26% 18.55% 18.84% 19.12% 19.41% 19.69% 19.98% 20.26% 20.55% 20.83% 21.12% 21.4% 21.69% 21.97% 22.26% 22.55% 22.83% 23.12% 23.4% 23.69% 23.97% 24.26% 24.54% 24.83% 25.11% 25.4% 25.68% 25.97% 26.26% 26.54% 26.83% 27.11% 27.4% 27.68% 27.97% 28.25% 28.54% 28.82% 29.11% 29.39% 29.68% 29.97% 30.25% 30.54% 30.82% 31.11% 31.39% 31.68% 31.96% 32.25% 32.53% 32.82% 33.11% 33.39% 33.68% 33.96% 34.25% 34.53% 34.82% 35.1% 35.39% 35.67% 35.96% 36.24% 36.53% 36.82% 37.1% 37.39% 37.67% 37.96% 38.24% 38.53% 38.81% 39.1% 39.38% 39.67% 39.95% 40.24% 40.53% 40.81% 41.1% 41.38% 41.67% 41.95% 42.24% 42.52% 42.81% 43.09% 43.38% 43.66% 43.95% 44.24% 44.52% 44.81% 45.09% 45.38% 45.66% 45.95% 46.23% 46.52% 46.8% 47.09% 47.37% 47.66% 47.95% 48.23% 48.52% 48.8% 49.09% 49.37% 49.66% 49.94% 50.23% 50.51% 50.8% 51.08% 51.37% 51.66% 51.94% 52.23% 52.51% 52.8% 53.08% 53.37% 53.65% 53.94% 54.22% 54.51% 54.79% 55.08% 55.37% 55.65% 55.94% 56.22% 56.51% 56.79% 57.08% 57.36% 57.65% 57.93% 58.22% 58.5% 58.79% 59.08% 59.36% 59.65% 59.93% 60.22% 60.5% 60.79% 61.07% 61.36% 61.64% 61.93% 62.21% 62.5% 62.79% 63.07% 63.36% 63.64% 63.93% 64.21% 64.5% 64.78% 65.07% 65.35% 65.64% 65.92% 66.21% 66.5% 66.78% 67.07% 67.35% 67.64% 67.92% 68.21% 68.49% 68.78% 69.06% 69.35% 69.63% 69.92% 70.21% 70.49% 70.78% 71.06% 71.35% 71.63% 71.92% 72.2% 72.49% 72.77% 73.06% 73.34% 73.63% 73.92% 74.2% 74.49% 74.77% 75.06% 75.34% 75.63% 75.91% 76.2% 76.48% 76.77% 77.05% 77.34% "
     ]
    }
   ],
   "source": [
    "%%time\n",
    "fl = glob.glob('obj/*.obj')\n",
    "print('files', len(fl))\n",
    "for i, obj_file in enumerate(fl):\n",
    "    mio.show_perc(i, len(fl), 5)\n",
    "    gdf = obj_to_json(obj_file)"
   ]
  },
  {
   "cell_type": "code",
   "execution_count": 18,
   "metadata": {},
   "outputs": [
    {
     "data": {
      "text/plain": [
       "<matplotlib.axes._subplots.AxesSubplot at 0x1445eaed240>"
      ]
     },
     "execution_count": 18,
     "metadata": {},
     "output_type": "execute_result"
    },
    {
     "data": {
      "image/png": "[encoded data removed]",
      "text/plain": [
       "<Figure size 432x288 with 1 Axes>"
      ]
     },
     "metadata": {
      "needs_background": "light"
     },
     "output_type": "display_data"
    }
   ],
   "source": [
    "obj = random.choice(fl)\n",
    "test = os.path.splitext(obj)[0] + \".json\"\n",
    "gdf = gpd.read_file(test, driver=\"GeoJSON\")\n",
    "gdf.plot()"
   ]
  },
  {
   "cell_type": "code",
   "execution_count": 20,
   "metadata": {},
   "outputs": [
    {
     "name": "stdout",
     "output_type": "stream",
     "text": [
      "3 rows of type MultiPolygon written to mapinfo file.\n"
     ]
    }
   ],
   "source": [
    "mio.write_tab(gdf, 'levels.tab')"
   ]
  },
  {
   "cell_type": "code",
   "execution_count": null,
   "metadata": {},
   "outputs": [],
   "source": []
  }
 ],
 "metadata": {
  "kernelspec": {
   "display_name": "Python 3",
   "language": "python",
   "name": "python3"
  },
  "language_info": {
   "codemirror_mode": {
    "name": "ipython",
    "version": 3
   },
   "file_extension": ".py",
   "mimetype": "text/x-python",
   "name": "python",
   "nbconvert_exporter": "python",
   "pygments_lexer": "ipython3",
   "version": "3.7.1"
  }
 },
 "nbformat": 4,
 "nbformat_minor": 2
}
