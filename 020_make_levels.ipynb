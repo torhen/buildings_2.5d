{
 "cells": [
  {
   "cell_type": "code",
   "execution_count": 1,
   "metadata": {},
   "outputs": [],
   "source": [
    "%matplotlib inline\n",
    "import numpy as np\n",
    "from shapely.geometry import Point, Polygon\n",
    "import pandas as pd\n",
    "import geopandas as gpd\n",
    "import mio\n",
    "import os, glob, random"
   ]
  },
  {
   "cell_type": "code",
   "execution_count": 2,
   "metadata": {},
   "outputs": [],
   "source": [
    "def is_valid(GeoSeries):\n",
    "    for geom in GeoSeries:\n",
    "        assert geom.is_valid\n",
    "        if geom.type not in ['Polygon','MultiPolygon']:\n",
    "            print('geometry is', geom.type, \"expected Polygon\")\n",
    "            assert False"
   ]
  },
  {
   "cell_type": "code",
   "execution_count": 3,
   "metadata": {},
   "outputs": [],
   "source": [
    "def cutpoint(p1:tuple, p2:tuple)->tuple:\n",
    "    \"calc point cuts zero plane\"\n",
    "    x1, y1, z1 = p1\n",
    "    x2, y2, z2 = p2\n",
    "    if (z2 - z1) != 0:\n",
    "        k = - z1 / (z2 - z1)\n",
    "    else:\n",
    "        k = 0\n",
    "    x0 = x1 + k * (x2 - x1)\n",
    "    y0 = y1 + k * (y2 - y1)\n",
    "    z0 = z1 + k * (z2 - z1)\n",
    "    return x0, y0, z0"
   ]
  },
  {
   "cell_type": "code",
   "execution_count": 4,
   "metadata": {},
   "outputs": [],
   "source": [
    "def slice_line(p1:tuple, p2:tuple)->list:\n",
    "    x1, y1, z1 = p1\n",
    "    x2, y2, z2 = p2\n",
    "    if z1>0 and z2>0:\n",
    "        # line above zero plane\n",
    "        return [(x1, y1, 0), (x2, y2, 0)]\n",
    "    if z1<0 and z2<0:\n",
    "        # Line below zero plane\n",
    "        return []\n",
    "    p0 = cutpoint(p1, p2)\n",
    "    if z1<=0:\n",
    "        # replace first point\n",
    "        return [p0, p2]\n",
    "    if z2<=0:\n",
    "        # replace second point\n",
    "        return [p1, p0]"
   ]
  },
  {
   "cell_type": "code",
   "execution_count": 5,
   "metadata": {},
   "outputs": [],
   "source": [
    "def slice_tri(poly:Polygon, h:float, tri_buffer:float):\n",
    "    \" Slice one triangle\"\n",
    "    p1 =   poly.exterior.coords[0]\n",
    "    p2 =   poly.exterior.coords[1]\n",
    "    p3 =   poly.exterior.coords[2]\n",
    "    p1 = [p1[0], p1[1], p1[2]-h]\n",
    "    p2 = [p2[0], p2[1], p2[2]-h]\n",
    "    p3 = [p3[0], p3[1], p3[2]-h]\n",
    "    l = []\n",
    "    l1 = slice_line(p1, p2)\n",
    "    l2 = slice_line(p2, p3)\n",
    "    l3 = slice_line(p3, p1)\n",
    "    l = l1 + l2 + l3\n",
    "    # aribitrary buffer to avoid topology errors (1 cm!)\n",
    "    poly = Polygon(l).buffer(tri_buffer)\n",
    "    if poly.area == 0:\n",
    "        return\n",
    "    \n",
    "    return poly"
   ]
  },
  {
   "cell_type": "code",
   "execution_count": 6,
   "metadata": {},
   "outputs": [],
   "source": [
    "def make_level(tri, h, tri_buffer):\n",
    "    pl = []\n",
    "    for t in tri:\n",
    "        poly = Polygon(t)\n",
    "        poly = slice_tri(poly, h, tri_buffer)\n",
    "        if poly is not None:   # avoid empty polygons\n",
    "            pl.append(poly)\n",
    "    gdf = gpd.GeoDataFrame(geometry=pl)\n",
    "    \n",
    "    # try to fix topolgy array\n",
    "    gdf.geometry = gdf.geometry.buffer(0)\n",
    "    \n",
    "    #is_valid(gdf.geometry)\n",
    "    gdf['id'] = 1\n",
    "    gdf = gdf.dissolve('id')\n",
    "    return gdf.geometry[1]"
   ]
  },
  {
   "cell_type": "code",
   "execution_count": 7,
   "metadata": {},
   "outputs": [],
   "source": [
    "def read_obj_file(model_path:str)->tuple:\n",
    "    # read obj file\n",
    "    fin = open(model_path)\n",
    "    v_list = []\n",
    "    f_list = []\n",
    "    for s in fin:\n",
    "        l = s.split()\n",
    "        if l[0] == 'g':\n",
    "            lon = float(l[1])\n",
    "            lat = float(l[2])\n",
    "        if l[0] == 'v':\n",
    "            vertex = float(l[1]), float(l[2]),float(l[3])\n",
    "            v_list.append(vertex)                                    \n",
    "        if l[0] == 'f':\n",
    "            poi = l[1:]\n",
    "            poi = [int(x)-1 for x in poi]\n",
    "            f_list.append(poi)\n",
    "    return v_list, f_list, lon, lat"
   ]
  },
  {
   "cell_type": "code",
   "execution_count": 8,
   "metadata": {},
   "outputs": [],
   "source": [
    "def resolve_tris(v_list:list, f_list:list)->list:\n",
    "    tris = []\n",
    "    for f in f_list:\n",
    "        tri = [v_list[p] for p in f]\n",
    "        tris.append(tri)\n",
    "    return tris"
   ]
  },
  {
   "cell_type": "code",
   "execution_count": 9,
   "metadata": {},
   "outputs": [],
   "source": [
    "def get_hight_range(tris:list)->tuple:\n",
    "    h_min = 8848\n",
    "    h_max = 0\n",
    "    for tri in tris:\n",
    "        for point in tri:\n",
    "            h = point[2]\n",
    "            if h > h_max: h_max = h\n",
    "            if h < h_min: h_min = h\n",
    "    return h_min, h_max"
   ]
  },
  {
   "cell_type": "code",
   "execution_count": 10,
   "metadata": {},
   "outputs": [],
   "source": [
    "def levels_df(tris:list, tri_buffer:float, min_dif:float) -> gpd.GeoDataFrame:\n",
    "    h_min, h_max = get_hight_range(tris)\n",
    "    h_min = int(h_min-1)\n",
    "    h_max = int(h_max+1)\n",
    "    gl = []\n",
    "    area = 0\n",
    "    for h in range(h_min, h_max):\n",
    "        row = {}\n",
    "        row['h'] = h\n",
    "        geom =  make_level(tris, h, tri_buffer)\n",
    "        ar = geom.area\n",
    "        row['geometry'] = geom\n",
    "        if abs(ar - area) > min_dif and ar>min_dif:\n",
    "            gl.append(row)\n",
    "            area = ar\n",
    "    gdf = gpd.GeoDataFrame(gl)\n",
    "    gdf = gdf.iloc[::-1]\n",
    "    gdf = gdf.reset_index(drop=True)\n",
    "    return gdf.copy()"
   ]
  },
  {
   "cell_type": "code",
   "execution_count": 11,
   "metadata": {},
   "outputs": [],
   "source": [
    "def make_v_f(row:gpd.GeoSeries)->list:\n",
    "    v_list = []\n",
    "    f_list = []\n",
    "    i = 0\n",
    "    for coord in row.geometry.exterior.coords:\n",
    "        i += 1\n",
    "        xyz = (coord[0], coord[1], row.h)\n",
    "        v_list.append(xyz)\n",
    "        f_list.append(i)\n",
    "    return v_list, f_list"
   ]
  },
  {
   "cell_type": "code",
   "execution_count": 12,
   "metadata": {},
   "outputs": [],
   "source": [
    "def write_level_obj(gdf:gpd.GeoDataFrame, obj_dest:str):\n",
    "    fout = open(obj_dest, 'w')\n",
    "    fout.write('g\\n')\n",
    "    i_offset = 0\n",
    "    for ind, row in gdf[:].iterrows():\n",
    "        v_list, f_list = make_v_f(row)\n",
    "        for coord in v_list:\n",
    "            s = \"v %f %f %f\\n\" % coord\n",
    "            fout.write(s)\n",
    "        sv = 'f '\n",
    "        for i in f_list:\n",
    "            sv = sv + \" \" + str(i + i_offset)\n",
    "        fout.write(sv + \"\\n\")\n",
    "        i_offset += len(f_list)\n",
    "    fout.close()"
   ]
  },
  {
   "cell_type": "code",
   "execution_count": 13,
   "metadata": {},
   "outputs": [],
   "source": [
    "def cut_out(gdf:gpd.GeoDataFrame, cut_buffer:float):\n",
    "    gdf = gdf.copy()\n",
    "    gdf.geometry = gdf.geometry.buffer(0)\n",
    "    gdf.geometry = [geom for geom in gdf.geometry if geom.area>1]\n",
    "    for i in range(len(gdf)-1):\n",
    "        upper = gdf.geometry.iloc[0:i+1]\n",
    "        #is_valid(upper)\n",
    "        \n",
    "        lower = gdf.geometry.iloc[i+1:]\n",
    "        #is_valid(lower)\n",
    "        \n",
    "        geom = upper.unary_union.buffer(cut_buffer)\n",
    "        #assert geom.is_valid\n",
    "        \n",
    "        # try to decrease topologyerrors by buffering\n",
    "        lower_cut = lower.buffer(0).difference(geom)\n",
    "\n",
    "        \n",
    "        lower_cut = lower_cut.buffer(0)\n",
    "        #is_valid(lower_cut)\n",
    "               \n",
    "        res = upper.append(lower_cut)\n",
    "        gdf.geometry = res\n",
    "        gdf.geometry.buffer(0)\n",
    "    return gdf"
   ]
  },
  {
   "cell_type": "code",
   "execution_count": 14,
   "metadata": {},
   "outputs": [],
   "source": [
    "def obj_to_json(model_path:str, dest:str)->gpd.GeoDataFrame:\n",
    "    v_list, f_list, lon, lat = read_obj_file(model_path)\n",
    "    tris = resolve_tris(v_list, f_list)\n",
    "    gdf = levels_df(tris, tri_buffer=0.003, min_dif=1)\n",
    "    gdf = cut_out(gdf, cut_buffer=0.003)\n",
    "    gdf = mio.disagg(gdf)\n",
    "    gdf.geometry = gdf.geometry.buffer(0)\n",
    "    gdf['lon'] = lon\n",
    "    gdf['lat'] = lat\n",
    "    gdf['model_path'] = model_path\n",
    "    gdf.to_file(dest, driver=\"GeoJSON\")\n",
    "    return gdf"
   ]
  },
  {
   "cell_type": "code",
   "execution_count": null,
   "metadata": {},
   "outputs": [
    {
     "name": "stdout",
     "output_type": "stream",
     "text": [
      "files 95629\n",
      "0.0% "
     ]
    },
    {
     "name": "stderr",
     "output_type": "stream",
     "text": [
      "C:\\tools\\anaconda3\\lib\\site-packages\\geopandas\\io\\file.py:108: FionaDeprecationWarning: Use fiona.Env() instead.\n",
      "  with fiona.drivers():\n"
     ]
    }
   ],
   "source": [
    "%%time\n",
    "fl = glob.glob('json/1091/*.obj')\n",
    "print('files', len(fl))\n",
    "for i, obj_file in enumerate(fl):\n",
    "    mio.show_perc(i, len(fl), 50)\n",
    "    dest = os.path.splitext(obj_file)[0] + '.json'\n",
    "    if not os.path.isfile(dest):\n",
    "        try:\n",
    "            gdf = obj_to_json(obj_file, dest)\n",
    "        except:\n",
    "            print(\"Error\", obj_file)"
   ]
  },
  {
   "cell_type": "code",
   "execution_count": null,
   "metadata": {},
   "outputs": [],
   "source": [
    "l = glob.glob('obj/*.json')\n",
    "file = random.choice(l)\n",
    "gdf = gpd.read_file(file, driver=\"GeoJSON\")\n",
    "gdf.plot()"
   ]
  },
  {
   "cell_type": "code",
   "execution_count": 7,
   "metadata": {},
   "outputs": [
    {
     "name": "stdout",
     "output_type": "stream",
     "text": [
      "11 rows of type MultiPolygon written to mapinfo file.\n"
     ]
    },
    {
     "name": "stderr",
     "output_type": "stream",
     "text": [
      "C:\\tools\\anaconda3\\lib\\site-packages\\geopandas\\io\\file.py:108: FionaDeprecationWarning: Use fiona.Env() instead.\n",
      "  with fiona.drivers():\n"
     ]
    }
   ],
   "source": [
    "mio.write_tab(gdf, 'levels.tab')"
   ]
  },
  {
   "cell_type": "code",
   "execution_count": null,
   "metadata": {},
   "outputs": [],
   "source": []
  }
 ],
 "metadata": {
  "kernelspec": {
   "display_name": "Python 3",
   "language": "python",
   "name": "python3"
  },
  "language_info": {
   "codemirror_mode": {
    "name": "ipython",
    "version": 3
   },
   "file_extension": ".py",
   "mimetype": "text/x-python",
   "name": "python",
   "nbconvert_exporter": "python",
   "pygments_lexer": "ipython3",
   "version": "3.7.1"
  }
 },
 "nbformat": 4,
 "nbformat_minor": 2
}
