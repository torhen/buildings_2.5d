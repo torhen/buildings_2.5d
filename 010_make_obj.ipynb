{
 "cells": [
  {
   "cell_type": "code",
   "execution_count": 1,
   "metadata": {},
   "outputs": [],
   "source": [
    "import xmltodict as xd\n",
    "import pandas as pd\n",
    "import os, glob\n",
    "import mio\n",
    "import numpy as np\n",
    "import geopandas as gpd\n",
    "from shapely.geometry import Point"
   ]
  },
  {
   "cell_type": "code",
   "execution_count": 2,
   "metadata": {},
   "outputs": [],
   "source": [
    "def get_model_list(kml_path:str)->pd.DataFrame:\n",
    "    \" read kml file, get anchor coordinates for every model\"\n",
    "    mio.check_types(get_model_list, locals())\n",
    "    with open(kml_path) as fin:\n",
    "        s = fin.read()\n",
    "    kmld =  xd.parse(s)\n",
    "    rows = []\n",
    "    for pm in kmld['kml']['Document']['Placemark'][0:]:\n",
    "        model = pm['Model']\n",
    "        row = {}\n",
    "        row['model'] = os.path.basename(model['Link']['href'])\n",
    "        sLon = model['Location']['longitude']\n",
    "        sLat = model['Location']['latitude']\n",
    "        row['swiss_lon'] = float(sLon)\n",
    "        row['swiss_lat'] = float(sLat)\n",
    "        row['swiss_x'], row['swiss_y'] = mio.wgs_swiss(sLon, sLat)\n",
    "        row['geometry'] = Point(row['swiss_x'], row['swiss_y'])\n",
    "        rows.append(row)\n",
    "    df = pd.DataFrame(rows)\n",
    "    df = df.set_index('model')\n",
    "    return df"
   ]
  },
  {
   "cell_type": "code",
   "execution_count": 3,
   "metadata": {},
   "outputs": [],
   "source": [
    "def get_point_lists(dae_file:str) -> dict:\n",
    "    \" get point and vertex list for one model\"\n",
    "    with open(dae_file) as fin:\n",
    "        s = fin.read()\n",
    "    d = xd.parse(s)\n",
    "    \n",
    "    geometries = d['COLLADA']['library_geometries']['geometry']\n",
    "    \n",
    "    res = {}\n",
    "    for geo in geometries:\n",
    "        geo_id = geo['@id']\n",
    "\n",
    "        # float list\n",
    "        float_list = geo['mesh']['source']['float_array']['#text'].split()\n",
    "        float_list = [float(f) for f in float_list]\n",
    "\n",
    "        # vertex list\n",
    "        vert_list = geo['mesh']['triangles']['p'].split()\n",
    "        vert_list = [int(n) for n in vert_list]\n",
    "        # write result\n",
    "        res[geo_id] = (float_list, vert_list)\n",
    "    return res"
   ]
  },
  {
   "cell_type": "code",
   "execution_count": 4,
   "metadata": {},
   "outputs": [],
   "source": [
    "def append_geos(dic:dict):\n",
    "    \" combine the v_lists and f_lists in the dictinary to one \"\n",
    "    v_list = []\n",
    "    f_list = []\n",
    "    for key in dic:\n",
    "        offset = len(v_list) // 3\n",
    "        v_list = v_list + dic[key][0] \n",
    "        f_list = f_list + [n+offset for n in dic[key][1]]\n",
    "    return v_list, f_list"
   ]
  },
  {
   "cell_type": "code",
   "execution_count": 5,
   "metadata": {},
   "outputs": [],
   "source": [
    "def write_obj(v_list:list, f_list:list, lon:float, lat:float, dest:str):\n",
    "    \" write v_list and f_list to an obj text 3d file\"\n",
    "    fout = open(dest, 'w')\n",
    "    fout.write(f'g {lon} {lat}\\n')\n",
    "    \n",
    "    va = np.array(v_list)\n",
    "    va = va.reshape(len(v_list)//3, 3)\n",
    "    for row in va:\n",
    "        s = f\"v {row[0]} {row[1]} {row[2]}\\n\"\n",
    "        fout.write(s)\n",
    "        \n",
    "    fa = np.array(f_list)\n",
    "    fa = fa.reshape(len(f_list)//3, 3)\n",
    "    for row in fa:\n",
    "        s = f\"f {row[0]+1} {row[1]+1} {row[2]+1}\\n\"\n",
    "        fout.write(s)       \n",
    "    \n",
    "    fout.close()"
   ]
  },
  {
   "cell_type": "code",
   "execution_count": 6,
   "metadata": {},
   "outputs": [],
   "source": [
    "def make_obj(dae_path:str, dest:str, lon:float, lat:float):\n",
    "    \" full proecess of converting .dae to .obj file\"\n",
    "    dic = get_point_lists(dae_path)\n",
    "    v_list, f_list = append_geos(dic)\n",
    "    write_obj(v_list, f_list, lon, lat, dest)"
   ]
  },
  {
   "cell_type": "code",
   "execution_count": 29,
   "metadata": {},
   "outputs": [],
   "source": [
    "def convert_kml(kml_path):\n",
    "    prefix = mio.file_title(kml_path) + '_'\n",
    "    mod_list = get_model_list(kml_path)\n",
    "    i = 0\n",
    "    for ind, row in mod_list.iterrows():\n",
    "        i += 1\n",
    "        dae_path = os.path.join(os.path.dirname(kml_path), 'models', ind)\n",
    "        dest = 'obj/' + prefix + mio.file_title(dae_path) + '.obj'\n",
    "        make_obj(dae_path, dest, row.swiss_lon, row.swiss_lat)"
   ]
  },
  {
   "cell_type": "code",
   "execution_count": 32,
   "metadata": {},
   "outputs": [
    {
     "name": "stdout",
     "output_type": "stream",
     "text": [
      "0.0% 20.0% 40.0% 60.0% 80.0% "
     ]
    }
   ],
   "source": [
    "dirs = glob.glob(r\"C:\\Buildings2.0\\KML\\*\")\n",
    "dirs = dirs[0:5]\n",
    "for i, dr in enumerate(dirs):\n",
    "    mio.show_perc(i, len(dirs), 1)\n",
    "    ft = mio.file_title(dr) + '.kml'\n",
    "    kml_path = os.path.join(dr, ft)\n",
    "    convert_kml(kml_path)"
   ]
  },
  {
   "cell_type": "code",
   "execution_count": null,
   "metadata": {},
   "outputs": [],
   "source": []
  },
  {
   "cell_type": "code",
   "execution_count": null,
   "metadata": {},
   "outputs": [],
   "source": []
  },
  {
   "cell_type": "code",
   "execution_count": null,
   "metadata": {},
   "outputs": [],
   "source": []
  }
 ],
 "metadata": {
  "kernelspec": {
   "display_name": "Python 3",
   "language": "python",
   "name": "python3"
  },
  "language_info": {
   "codemirror_mode": {
    "name": "ipython",
    "version": 3
   },
   "file_extension": ".py",
   "mimetype": "text/x-python",
   "name": "python",
   "nbconvert_exporter": "python",
   "pygments_lexer": "ipython3",
   "version": "3.7.1"
  }
 },
 "nbformat": 4,
 "nbformat_minor": 2
}
